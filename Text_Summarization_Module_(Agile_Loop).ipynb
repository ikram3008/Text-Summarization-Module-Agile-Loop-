{
  "nbformat": 4,
  "nbformat_minor": 0,
  "metadata": {
    "colab": {
      "provenance": [],
      "authorship_tag": "ABX9TyNhNFrAMLexnTPjK2XlKNU0",
      "include_colab_link": true
    },
    "kernelspec": {
      "name": "python3",
      "display_name": "Python 3"
    },
    "language_info": {
      "name": "python"
    }
  },
  "cells": [
    {
      "cell_type": "markdown",
      "metadata": {
        "id": "view-in-github",
        "colab_type": "text"
      },
      "source": [
        "<a href=\"https://colab.research.google.com/github/ikram3008/Text-Summarization-Module-Agile-Loop-/blob/main/Text_Summarization_Module_(Agile_Loop).ipynb\" target=\"_parent\"><img src=\"https://colab.research.google.com/assets/colab-badge.svg\" alt=\"Open In Colab\"/></a>"
      ]
    },
    {
      "cell_type": "code",
      "source": [
        "# Install Required Libraries\n",
        "!pip install transformers gtts"
      ],
      "metadata": {
        "colab": {
          "base_uri": "https://localhost:8080/"
        },
        "id": "huGt1aX-hrWy",
        "outputId": "3bcf74ec-e424-423f-8b46-b333729d1de4"
      },
      "execution_count": 1,
      "outputs": [
        {
          "output_type": "stream",
          "name": "stdout",
          "text": [
            "Requirement already satisfied: transformers in /usr/local/lib/python3.11/dist-packages (4.48.2)\n",
            "Collecting gtts\n",
            "  Downloading gTTS-2.5.4-py3-none-any.whl.metadata (4.1 kB)\n",
            "Requirement already satisfied: filelock in /usr/local/lib/python3.11/dist-packages (from transformers) (3.17.0)\n",
            "Requirement already satisfied: huggingface-hub<1.0,>=0.24.0 in /usr/local/lib/python3.11/dist-packages (from transformers) (0.28.1)\n",
            "Requirement already satisfied: numpy>=1.17 in /usr/local/lib/python3.11/dist-packages (from transformers) (1.26.4)\n",
            "Requirement already satisfied: packaging>=20.0 in /usr/local/lib/python3.11/dist-packages (from transformers) (24.2)\n",
            "Requirement already satisfied: pyyaml>=5.1 in /usr/local/lib/python3.11/dist-packages (from transformers) (6.0.2)\n",
            "Requirement already satisfied: regex!=2019.12.17 in /usr/local/lib/python3.11/dist-packages (from transformers) (2024.11.6)\n",
            "Requirement already satisfied: requests in /usr/local/lib/python3.11/dist-packages (from transformers) (2.32.3)\n",
            "Requirement already satisfied: tokenizers<0.22,>=0.21 in /usr/local/lib/python3.11/dist-packages (from transformers) (0.21.0)\n",
            "Requirement already satisfied: safetensors>=0.4.1 in /usr/local/lib/python3.11/dist-packages (from transformers) (0.5.2)\n",
            "Requirement already satisfied: tqdm>=4.27 in /usr/local/lib/python3.11/dist-packages (from transformers) (4.67.1)\n",
            "Requirement already satisfied: click<8.2,>=7.1 in /usr/local/lib/python3.11/dist-packages (from gtts) (8.1.8)\n",
            "Requirement already satisfied: fsspec>=2023.5.0 in /usr/local/lib/python3.11/dist-packages (from huggingface-hub<1.0,>=0.24.0->transformers) (2024.10.0)\n",
            "Requirement already satisfied: typing-extensions>=3.7.4.3 in /usr/local/lib/python3.11/dist-packages (from huggingface-hub<1.0,>=0.24.0->transformers) (4.12.2)\n",
            "Requirement already satisfied: charset-normalizer<4,>=2 in /usr/local/lib/python3.11/dist-packages (from requests->transformers) (3.4.1)\n",
            "Requirement already satisfied: idna<4,>=2.5 in /usr/local/lib/python3.11/dist-packages (from requests->transformers) (3.10)\n",
            "Requirement already satisfied: urllib3<3,>=1.21.1 in /usr/local/lib/python3.11/dist-packages (from requests->transformers) (2.3.0)\n",
            "Requirement already satisfied: certifi>=2017.4.17 in /usr/local/lib/python3.11/dist-packages (from requests->transformers) (2025.1.31)\n",
            "Downloading gTTS-2.5.4-py3-none-any.whl (29 kB)\n",
            "Installing collected packages: gtts\n",
            "Successfully installed gtts-2.5.4\n"
          ]
        }
      ]
    },
    {
      "cell_type": "code",
      "source": [
        "# Import Libraries\n",
        "from transformers import pipeline\n",
        "from gtts import gTTS\n",
        "from IPython.display import Audio"
      ],
      "metadata": {
        "id": "TlY_zJuwhuXM"
      },
      "execution_count": 2,
      "outputs": []
    },
    {
      "cell_type": "code",
      "source": [
        "class TextSummarizer:\n",
        "    def __init__(self):\n",
        "        # Load summarization and sentiment analysis models\n",
        "        self.summarizer = pipeline(\"summarization\", model=\"facebook/bart-large-cnn\")\n",
        "        self.sentiment_analyzer = pipeline(\"sentiment-analysis\")\n",
        "\n",
        "    def summarize(self, text, summary_type=\"abstractive\", sentiment_filter=None, max_length=50, output_format=\"text\", voice_narration=False):\n",
        "        \"\"\"\n",
        "        Summarize text with options for extractive/abstractive, sentiment filtering, and output formats.\n",
        "        \"\"\"\n",
        "        # Filter by sentiment (if requested)\n",
        "        if sentiment_filter:\n",
        "            text = self._filter_by_sentiment(text, sentiment_filter)\n",
        "\n",
        "        # Generate summary\n",
        "        if summary_type == \"abstractive\":\n",
        "            summary = self._abstractive_summarize(text, max_length)\n",
        "        else:\n",
        "            summary = self._extractive_summarize(text, max_length)\n",
        "\n",
        "        # Format output\n",
        "        result = self._format_output(summary, output_format)\n",
        "\n",
        "        # Add voice narration (if requested)\n",
        "        if voice_narration:\n",
        "            self._text_to_speech(summary)\n",
        "\n",
        "        return result\n",
        "\n",
        "    def _filter_by_sentiment(self, text, target_sentiment):\n",
        "        \"\"\"\n",
        "        Filter sentences by sentiment (positive/negative).\n",
        "        \"\"\"\n",
        "        sentences = text.split(\". \")\n",
        "        filtered_sentences = [s for s in sentences if self.sentiment_analyzer(s)[0][\"label\"].lower() == target_sentiment.lower()]\n",
        "        return \". \".join(filtered_sentences)\n",
        "\n",
        "    def _abstractive_summarize(self, text, max_length):\n",
        "        \"\"\"\n",
        "        Generate abstractive summary using BART model.\n",
        "        \"\"\"\n",
        "        return self.summarizer(text, max_length=max_length, min_length=25, do_sample=False)[0][\"summary_text\"]\n",
        "\n",
        "    def _extractive_summarize(self, text, max_length):\n",
        "        \"\"\"\n",
        "        Simple extractive summary by selecting the first few sentences.\n",
        "        \"\"\"\n",
        "        sentences = text.split(\". \")\n",
        "        return \". \".join(sentences[:max_length // 20])  # Adjust based on sentence length\n",
        "\n",
        "    def _format_output(self, summary, output_format):\n",
        "        \"\"\"\n",
        "        Format the output as text, JSON, or Markdown.\n",
        "        \"\"\"\n",
        "        if output_format == \"json\":\n",
        "            return {\"summary\": summary}\n",
        "        elif output_format == \"markdown\":\n",
        "            return f\"**Summary:**\\n\\n{summary}\"\n",
        "        else:\n",
        "            return summary\n",
        "\n",
        "    def _text_to_speech(self, text):\n",
        "        \"\"\"\n",
        "        Convert text to speech using gTTS.\n",
        "        \"\"\"\n",
        "        tts = gTTS(text=text, lang=\"en\")\n",
        "        tts.save(\"summary.mp3\")\n",
        "        return Audio(\"summary.mp3\", autoplay=True)\n",
        "\n",
        "# Example Usage\n",
        "if __name__ == \"__main__\":\n",
        "    # Sample text\n",
        "    sample_text = \"\"\"\n",
        "    Users are reporting mixed experiences with the new update. Many appreciate the improved interface,\n",
        "    but several have encountered performance issues. The AI features seem to work well for most users,\n",
        "    though a small group complains about increased battery usage.\n",
        "    \"\"\"\n",
        "\n",
        "    # Initialize summarizer\n",
        "    summarizer = TextSummarizer()\n",
        "\n",
        "    # Example 1: Abstractive summary with sentiment filtering\n",
        "    print(\"Negative Aspects Summary:\")\n",
        "    print(summarizer.summarize(\n",
        "        sample_text,\n",
        "        sentiment_filter=\"negative\",\n",
        "        output_format=\"markdown\"\n",
        "    ))\n",
        "\n",
        "    # Example 2: Extractive summary with voice narration\n",
        "    print(\"\\nGeneral Summary:\")\n",
        "    result = summarizer.summarize(\n",
        "        sample_text,\n",
        "        summary_type=\"extractive\",\n",
        "        output_format=\"text\",\n",
        "        voice_narration=True\n",
        "    )\n",
        "    print(result)"
      ],
      "metadata": {
        "colab": {
          "base_uri": "https://localhost:8080/"
        },
        "id": "vCODLFejilqc",
        "outputId": "33eb4533-a3d5-4b7d-d3a0-64287c50c58b"
      },
      "execution_count": 22,
      "outputs": [
        {
          "output_type": "stream",
          "name": "stderr",
          "text": [
            "Device set to use cpu\n",
            "No model was supplied, defaulted to distilbert/distilbert-base-uncased-finetuned-sst-2-english and revision 714eb0f (https://huggingface.co/distilbert/distilbert-base-uncased-finetuned-sst-2-english).\n",
            "Using a pipeline without specifying a model name and revision in production is not recommended.\n",
            "Device set to use cpu\n"
          ]
        },
        {
          "output_type": "stream",
          "name": "stdout",
          "text": [
            "Negative Aspects Summary:\n"
          ]
        },
        {
          "output_type": "stream",
          "name": "stderr",
          "text": [
            "Your max_length is set to 50, but your input_length is only 34. Since this is a summarization task, where outputs shorter than the input are typically wanted, you might consider decreasing max_length manually, e.g. summarizer('...', max_length=17)\n"
          ]
        },
        {
          "output_type": "stream",
          "name": "stdout",
          "text": [
            "**Summary:**\n",
            "\n",
            "Users are reporting mixed experiences with the new update. Many appreciate the improved interface, but several have encountered performance issues.\n",
            "\n",
            "General Summary:\n",
            "\n",
            "    Users are reporting mixed experiences with the new update. Many appreciate the improved interface, \n",
            "    but several have encountered performance issues\n"
          ]
        }
      ]
    },
    {
      "cell_type": "code",
      "source": [
        "# Feature 1: Abstractive Summarization\n",
        "\n",
        "\n",
        "text = \"\"\"Artificial intelligence is transforming industries across the globe. From healthcare to finance,\n",
        "AI is being used to automate tasks, improve decision-making, and enhance customer experiences.\n",
        "However, there are concerns about job displacement and ethical implications of AI technologies.\"\"\"\n",
        "\n",
        "summary = summarizer.summarize(text, summary_type=\"abstractive\", max_length=50)\n",
        "print(summary)"
      ],
      "metadata": {
        "colab": {
          "base_uri": "https://localhost:8080/"
        },
        "id": "di0oKJZnjsbQ",
        "outputId": "95e8decd-d436-4c0d-e0ab-02e596d7a750"
      },
      "execution_count": 31,
      "outputs": [
        {
          "output_type": "stream",
          "name": "stdout",
          "text": [
            "AI is being used to automate tasks, improve decision-making, and enhance customer experiences. There are concerns about job displacement and ethical implications of AI technologies.\n"
          ]
        }
      ]
    },
    {
      "cell_type": "code",
      "source": [
        "# Feature 2: Extractive Summarization\n",
        "\n",
        "text = \"\"\"\n",
        "The new smartphone model has received positive reviews for its camera quality and battery life.\n",
        "However, some users have reported issues with the display brightness and software glitches.\n",
        "Overall, the phone is considered a good value for its price.\n",
        "\"\"\"\n",
        "\n",
        "summary = summarizer.summarize(text, summary_type=\"extractive\", max_length=50)\n",
        "print(summary)\n"
      ],
      "metadata": {
        "colab": {
          "base_uri": "https://localhost:8080/"
        },
        "id": "SDneZtMcknuf",
        "outputId": "b876676b-75d8-4395-d394-0ad1b1fc3da4"
      },
      "execution_count": 32,
      "outputs": [
        {
          "output_type": "stream",
          "name": "stdout",
          "text": [
            "\n",
            "The new smartphone model has received positive reviews for its camera quality and battery life. \n",
            "However, some users have reported issues with the display brightness and software glitches\n"
          ]
        }
      ]
    },
    {
      "cell_type": "code",
      "source": [
        "# Feature 3: Sentiment Filtering\n",
        "\n",
        "text = \"\"\"\n",
        "Customers love the new design and user-friendly interface. However, many are disappointed with the battery life.\n",
        "Some users also reported that the app crashes frequently. The customer support team has been praised for their quick responses.\n",
        "\"\"\"\n",
        "\n",
        "summary = summarizer.summarize(text, sentiment_filter=\"negative\")\n",
        "print(summary)\n"
      ],
      "metadata": {
        "colab": {
          "base_uri": "https://localhost:8080/"
        },
        "id": "bO0aHF2ck19O",
        "outputId": "ee55da3b-ac28-45c9-8b6e-ff87d004cdbe"
      },
      "execution_count": 34,
      "outputs": [
        {
          "output_type": "stream",
          "name": "stderr",
          "text": [
            "Your max_length is set to 50, but your input_length is only 23. Since this is a summarization task, where outputs shorter than the input are typically wanted, you might consider decreasing max_length manually, e.g. summarizer('...', max_length=11)\n"
          ]
        },
        {
          "output_type": "stream",
          "name": "stdout",
          "text": [
            "Some users also reported that the app crashes frequently. However, many are disappointed with the battery life of the phone.\n"
          ]
        }
      ]
    },
    {
      "cell_type": "code",
      "source": [
        "# Feature 4: Multi-Format Output\n",
        "\n",
        "# JSON output\n",
        "summary = summarizer.summarize(text, output_format=\"json\")\n",
        "print(summary)\n",
        "\n",
        "# Markdown output\n",
        "summary = summarizer.summarize(text, output_format=\"markdown\")\n",
        "print(summary)\n",
        "\n"
      ],
      "metadata": {
        "colab": {
          "base_uri": "https://localhost:8080/"
        },
        "id": "kFvTcZ9VlFbh",
        "outputId": "52402374-7f03-4655-e862-a7b46bb8718e"
      },
      "execution_count": 35,
      "outputs": [
        {
          "output_type": "stream",
          "name": "stdout",
          "text": [
            "{'summary': 'Customers love the new design and user-friendly interface. However, many are disappointed with the battery life. The customer support team has been praised for their quick responses.'}\n",
            "**Summary:**\n",
            "\n",
            "Customers love the new design and user-friendly interface. However, many are disappointed with the battery life. The customer support team has been praised for their quick responses.\n"
          ]
        }
      ]
    },
    {
      "cell_type": "code",
      "source": [
        "# Feature 5: Voice Narration\n",
        "\n",
        "\n",
        "summary = summarizer.summarize(text, voice_narration=True)\n",
        "print(summary)"
      ],
      "metadata": {
        "colab": {
          "base_uri": "https://localhost:8080/"
        },
        "id": "kkR5uPzilayc",
        "outputId": "5ca21bce-5199-4de4-fd63-91354ae0d998"
      },
      "execution_count": 36,
      "outputs": [
        {
          "output_type": "stream",
          "name": "stdout",
          "text": [
            "Customers love the new design and user-friendly interface. However, many are disappointed with the battery life. The customer support team has been praised for their quick responses.\n"
          ]
        }
      ]
    }
  ]
}